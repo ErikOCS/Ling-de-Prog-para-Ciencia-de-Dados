{
  "nbformat": 4,
  "nbformat_minor": 0,
  "metadata": {
    "colab": {
      "provenance": [],
      "authorship_tag": "ABX9TyNF3RA1OWiQr1TKacdh8Rbc",
      "include_colab_link": true
    },
    "kernelspec": {
      "name": "python3",
      "display_name": "Python 3"
    },
    "language_info": {
      "name": "python"
    },
    "widgets": {
      "application/vnd.jupyter.widget-state+json": {
        "e36e3e0f6e5d4ee49be9bdc215ba2ecf": {
          "model_module": "@jupyter-widgets/controls",
          "model_name": "TextModel",
          "model_module_version": "1.5.0",
          "state": {
            "_dom_classes": [],
            "_model_module": "@jupyter-widgets/controls",
            "_model_module_version": "1.5.0",
            "_model_name": "TextModel",
            "_view_count": null,
            "_view_module": "@jupyter-widgets/controls",
            "_view_module_version": "1.5.0",
            "_view_name": "TextView",
            "continuous_update": true,
            "description": "Texto:",
            "description_tooltip": null,
            "disabled": false,
            "layout": "IPY_MODEL_b9a50e7f2a9e4a038c3293b08348dc66",
            "placeholder": "Digite algo e tecle \"Enter\"",
            "style": "IPY_MODEL_afe4a805a2b7454fb8e8857400f1b407",
            "value": "No meio do caminho tinha uma pedra tinha uma pedra no meio do caminho tinha uma pedra no meio do caminho tinha uma pedra."
          }
        },
        "b9a50e7f2a9e4a038c3293b08348dc66": {
          "model_module": "@jupyter-widgets/base",
          "model_name": "LayoutModel",
          "model_module_version": "1.2.0",
          "state": {
            "_model_module": "@jupyter-widgets/base",
            "_model_module_version": "1.2.0",
            "_model_name": "LayoutModel",
            "_view_count": null,
            "_view_module": "@jupyter-widgets/base",
            "_view_module_version": "1.2.0",
            "_view_name": "LayoutView",
            "align_content": null,
            "align_items": null,
            "align_self": null,
            "border": null,
            "bottom": null,
            "display": null,
            "flex": null,
            "flex_flow": null,
            "grid_area": null,
            "grid_auto_columns": null,
            "grid_auto_flow": null,
            "grid_auto_rows": null,
            "grid_column": null,
            "grid_gap": null,
            "grid_row": null,
            "grid_template_areas": null,
            "grid_template_columns": null,
            "grid_template_rows": null,
            "height": null,
            "justify_content": null,
            "justify_items": null,
            "left": null,
            "margin": null,
            "max_height": null,
            "max_width": null,
            "min_height": null,
            "min_width": null,
            "object_fit": null,
            "object_position": null,
            "order": null,
            "overflow": null,
            "overflow_x": null,
            "overflow_y": null,
            "padding": null,
            "right": null,
            "top": null,
            "visibility": null,
            "width": null
          }
        },
        "afe4a805a2b7454fb8e8857400f1b407": {
          "model_module": "@jupyter-widgets/controls",
          "model_name": "DescriptionStyleModel",
          "model_module_version": "1.5.0",
          "state": {
            "_model_module": "@jupyter-widgets/controls",
            "_model_module_version": "1.5.0",
            "_model_name": "DescriptionStyleModel",
            "_view_count": null,
            "_view_module": "@jupyter-widgets/base",
            "_view_module_version": "1.2.0",
            "_view_name": "StyleView",
            "description_width": ""
          }
        }
      }
    }
  },
  "cells": [
    {
      "cell_type": "markdown",
      "metadata": {
        "id": "view-in-github",
        "colab_type": "text"
      },
      "source": [
        "<a href=\"https://colab.research.google.com/github/ErikOCS/Ling-de-Prog-para-Ciencia-de-Dados/blob/main/T2_Atividade_Aprofundamento.ipynb\" target=\"_parent\"><img src=\"https://colab.research.google.com/assets/colab-badge.svg\" alt=\"Open In Colab\"/></a>"
      ]
    },
    {
      "cell_type": "code",
      "execution_count": null,
      "metadata": {
        "id": "XPei3mvVcqde"
      },
      "outputs": [],
      "source": []
    },
    {
      "cell_type": "markdown",
      "source": [
        "# **Atividade de Aprofundamento Trilha 2**\n",
        "\n",
        "### **Contador de Palavras**\n",
        "\n",
        "Construção de um contator de palavras dentro de um texto.\n",
        "\n",
        "*Textos são uma fonte importante de informações para Ciência de Dados. Eles aparecem nos posts das redes sociais, na avaliação de serviços e produtos etc. Contar a frequência (ou a quantidade) que esses termos aparecem é a base de muitos sistemas de recomendação, análise de sentimento etc.*\n",
        "\n",
        "Construa um contador de palavras de um texto que, dado um texto, produz um dicionário `contagem` como a palavra sendo chave e suas quantidades o valor da chave. Veja o exemplo:\n",
        "\n",
        "Entrada do programa:\n",
        "\n",
        "```\n",
        "texto = '''No meio do caminho tinha uma pedra\n",
        "tinha uma pedra no meio do caminho\n",
        "tinha uma pedra no meio do caminho tinha uma pedra.\n",
        "'''\n",
        "```\n",
        "\n",
        "Saída:\n",
        "\n",
        "```\n",
        "{'no': 3, 'meio': 3, 'do': 3, 'caminho': 3, 'tinha': 4, 'uma': 4, 'pedra': 4}\n",
        "```\n",
        "\n",
        "A seguir aplique a um texto de sua preferência.\n",
        "\n",
        "\n",
        "\n",
        "\n"
      ],
      "metadata": {
        "id": "iqSyDrpvdCPF"
      }
    },
    {
      "cell_type": "markdown",
      "source": [
        "### Código de exemplo da Atividade"
      ],
      "metadata": {
        "id": "38csPPbRzehu"
      }
    },
    {
      "cell_type": "code",
      "source": [
        "texto = '''No meio do caminho tinha uma pedra\n",
        "tinha uma pedra no meio do caminho\n",
        "tinha uma pedra no meio do caminho tinha uma pedra.\n",
        "'''\n",
        "\n",
        "# Remove caracteres especiais e transforma todas as letras em minúsculas\n",
        "texto = texto.lower().replace(\".\", \"\").replace(\",\", \"\").replace(\":\", \"\").replace(\";\", \"\").replace(\"!\", \"\").replace(\"?\", \"\").replace(\"-\", \"\")\n",
        "\n",
        "# Separa o texto em uma lista de palavras\n",
        "palavras = texto.split()\n",
        "\n",
        "print('Lista... \\n')\n",
        "print(palavras)\n",
        "print()\n",
        "\n",
        "# Cria um dicionário para armazenar a contagem de cada palavra\n",
        "contagem = {}\n",
        "\n",
        "#\n",
        "# CRIE O DICIONÁRIO CONTAGEM AQUI ----------------------------------------------\n",
        "#\n",
        "for palavra in palavras:\n",
        "    if palavra in contagem:\n",
        "        contagem[palavra] += 1\n",
        "    else:\n",
        "        contagem[palavra] = 1\n",
        "\n",
        "#\n",
        "#-------------------------------------------------------------------------------\n",
        "#\n",
        "\n",
        "# Imprime a contagem de cada palavra\n",
        "print('contagem... \\n')\n",
        "print(contagem)"
      ],
      "metadata": {
        "id": "wZsUB5EWzYoK"
      },
      "execution_count": null,
      "outputs": []
    },
    {
      "cell_type": "markdown",
      "source": [
        "## Contando palavras do texto inserido em um Input Box.\n",
        "Para inserir o input box é necessario instalar o pacote ipywidgets"
      ],
      "metadata": {
        "id": "GhWC2ZtXztxt"
      }
    },
    {
      "cell_type": "code",
      "source": [
        "!pip install ipywidgets  # Instala o pacote ipywidgets (se ainda não estiver instalado)\n",
        "\n",
        "import ipywidgets as widgets\n",
        "from IPython.display import display\n"
      ],
      "metadata": {
        "id": "6BIfF-sodI6e"
      },
      "execution_count": null,
      "outputs": []
    },
    {
      "cell_type": "code",
      "source": [
        "# Função para lidar com o valor inserido no input box\n",
        "def handle_submit(sender):\n",
        "    print(\"Texto inserido:\", text_input.value)\n",
        "\n",
        "# Criação do input box\n",
        "text_input = widgets.Text(\n",
        "    value='',  # Valor inicial do input box\n",
        "    placeholder='Digite algo e tecle \"Enter\"',\n",
        "    description='Texto:',\n",
        "    disabled=False\n",
        ")\n",
        "\n",
        "# Define a função de tratamento para quando o valor for inserido\n",
        "text_input.on_submit(handle_submit)\n",
        "\n",
        "# Exibe o input box\n",
        "display(text_input)\n",
        "\n",
        "\n"
      ],
      "metadata": {
        "colab": {
          "base_uri": "https://localhost:8080/",
          "height": 85,
          "referenced_widgets": [
            "e36e3e0f6e5d4ee49be9bdc215ba2ecf",
            "b9a50e7f2a9e4a038c3293b08348dc66",
            "afe4a805a2b7454fb8e8857400f1b407"
          ]
        },
        "id": "OxV1VvCDwzNs",
        "outputId": "12e7fb44-679c-44ca-9bff-fd5823e48e41"
      },
      "execution_count": 20,
      "outputs": [
        {
          "output_type": "display_data",
          "data": {
            "text/plain": [
              "Text(value='', description='Texto:', placeholder='Digite algo e tecle \"Enter\"')"
            ],
            "application/vnd.jupyter.widget-view+json": {
              "version_major": 2,
              "version_minor": 0,
              "model_id": "e36e3e0f6e5d4ee49be9bdc215ba2ecf"
            }
          },
          "metadata": {}
        },
        {
          "output_type": "stream",
          "name": "stdout",
          "text": [
            "Texto inserido: 'No meio do caminho tinha uma pedra tinha uma pedra no meio do caminho tinha uma pedra no meio do caminho tinha uma pedra.\n",
            "Texto inserido: No meio do caminho tinha uma pedra tinha uma pedra no meio do caminho tinha uma pedra no meio do caminho tinha uma pedra.\n"
          ]
        }
      ]
    },
    {
      "cell_type": "code",
      "source": [
        "# Armazenando o texto do input box\n",
        "texto = text_input.value\n",
        "\n",
        "# Remove caracteres especiais e transforma todas as letras em minúsculas\n",
        "texto = texto.lower().replace(\".\", \"\").replace(\",\", \"\").replace(\":\", \"\").replace(\";\", \"\").replace(\"!\", \"\").replace(\"?\", \"\").replace(\"-\", \"\")\n",
        "\n",
        "# Separa o texto em uma lista de palavras\n",
        "palavras = texto.split()\n",
        "\n",
        "print('Lista... \\n')\n",
        "print(palavras)\n",
        "print()\n",
        "\n",
        "# Cria um dicionário para armazenar a contagem de cada palavra\n",
        "contagem = {}\n",
        "\n",
        "#\n",
        "# CRIE O DICIONÁRIO CONTAGEM AQUI ----------------------------------------------\n",
        "#\n",
        "for palavra in palavras:\n",
        "    if palavra in contagem:\n",
        "        contagem[palavra] += 1\n",
        "    else:\n",
        "        contagem[palavra] = 1\n",
        "\n",
        "#\n",
        "#-------------------------------------------------------------------------------\n",
        "#\n",
        "\n",
        "# Imprime a contagem de cada palavra\n",
        "print('contagem... \\n')\n",
        "print(contagem)"
      ],
      "metadata": {
        "colab": {
          "base_uri": "https://localhost:8080/"
        },
        "id": "53n8lzmy0sf3",
        "outputId": "c6c5bf6e-4005-49bb-ca3f-a902d810120a"
      },
      "execution_count": 23,
      "outputs": [
        {
          "output_type": "stream",
          "name": "stdout",
          "text": [
            "Lista... \n",
            "\n",
            "['no', 'meio', 'do', 'caminho', 'tinha', 'uma', 'pedra', 'tinha', 'uma', 'pedra', 'no', 'meio', 'do', 'caminho', 'tinha', 'uma', 'pedra', 'no', 'meio', 'do', 'caminho', 'tinha', 'uma', 'pedra']\n",
            "\n",
            "contagem... \n",
            "\n",
            "{'no': 3, 'meio': 3, 'do': 3, 'caminho': 3, 'tinha': 4, 'uma': 4, 'pedra': 4}\n"
          ]
        }
      ]
    }
  ]
}