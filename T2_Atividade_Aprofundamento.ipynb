{
  "nbformat": 4,
  "nbformat_minor": 0,
  "metadata": {
    "colab": {
      "provenance": [],
      "authorship_tag": "ABX9TyPNSPR3JlzMJQlYQdk3AxoP",
      "include_colab_link": true
    },
    "kernelspec": {
      "name": "python3",
      "display_name": "Python 3"
    },
    "language_info": {
      "name": "python"
    },
    "widgets": {
      "application/vnd.jupyter.widget-state+json": {
        "69ac016727524d70b6680406fb8d4129": {
          "model_module": "@jupyter-widgets/controls",
          "model_name": "TextModel",
          "model_module_version": "1.5.0",
          "state": {
            "_dom_classes": [],
            "_model_module": "@jupyter-widgets/controls",
            "_model_module_version": "1.5.0",
            "_model_name": "TextModel",
            "_view_count": null,
            "_view_module": "@jupyter-widgets/controls",
            "_view_module_version": "1.5.0",
            "_view_name": "TextView",
            "continuous_update": true,
            "description": "Texto:",
            "description_tooltip": null,
            "disabled": false,
            "layout": "IPY_MODEL_48c7c3551ae24de281f52ac09b2e42e3",
            "placeholder": "Digite algo e tecle \"Enter\"",
            "style": "IPY_MODEL_6a27bcde6fb44baa800a4330bf525f09",
            "value": "O tempo perguntou pro tempo quanto tempo o tempo tem, o tempo respondeu pro tempo que o tempo tem o tempo que o tempo tem"
          }
        },
        "48c7c3551ae24de281f52ac09b2e42e3": {
          "model_module": "@jupyter-widgets/base",
          "model_name": "LayoutModel",
          "model_module_version": "1.2.0",
          "state": {
            "_model_module": "@jupyter-widgets/base",
            "_model_module_version": "1.2.0",
            "_model_name": "LayoutModel",
            "_view_count": null,
            "_view_module": "@jupyter-widgets/base",
            "_view_module_version": "1.2.0",
            "_view_name": "LayoutView",
            "align_content": null,
            "align_items": null,
            "align_self": null,
            "border": null,
            "bottom": null,
            "display": null,
            "flex": null,
            "flex_flow": null,
            "grid_area": null,
            "grid_auto_columns": null,
            "grid_auto_flow": null,
            "grid_auto_rows": null,
            "grid_column": null,
            "grid_gap": null,
            "grid_row": null,
            "grid_template_areas": null,
            "grid_template_columns": null,
            "grid_template_rows": null,
            "height": null,
            "justify_content": null,
            "justify_items": null,
            "left": null,
            "margin": null,
            "max_height": null,
            "max_width": null,
            "min_height": null,
            "min_width": null,
            "object_fit": null,
            "object_position": null,
            "order": null,
            "overflow": null,
            "overflow_x": null,
            "overflow_y": null,
            "padding": null,
            "right": null,
            "top": null,
            "visibility": null,
            "width": null
          }
        },
        "6a27bcde6fb44baa800a4330bf525f09": {
          "model_module": "@jupyter-widgets/controls",
          "model_name": "DescriptionStyleModel",
          "model_module_version": "1.5.0",
          "state": {
            "_model_module": "@jupyter-widgets/controls",
            "_model_module_version": "1.5.0",
            "_model_name": "DescriptionStyleModel",
            "_view_count": null,
            "_view_module": "@jupyter-widgets/base",
            "_view_module_version": "1.2.0",
            "_view_name": "StyleView",
            "description_width": ""
          }
        }
      }
    }
  },
  "cells": [
    {
      "cell_type": "markdown",
      "metadata": {
        "id": "view-in-github",
        "colab_type": "text"
      },
      "source": [
        "<a href=\"https://colab.research.google.com/github/ErikOCS/Ling-de-Prog-para-Ciencia-de-Dados/blob/main/T2_Atividade_Aprofundamento.ipynb\" target=\"_parent\"><img src=\"https://colab.research.google.com/assets/colab-badge.svg\" alt=\"Open In Colab\"/></a>"
      ]
    },
    {
      "cell_type": "markdown",
      "source": [
        "# Link compartilhado\n",
        "[Link Notebook Atividade aprofundamento trilha 2](https://colab.research.google.com/drive/1mcvGe56f2ZXCX7FJqFRZY1ii0Rl4CV0r?usp=sharing)"
      ],
      "metadata": {
        "id": "L0DKX0_UHV-s"
      }
    },
    {
      "cell_type": "markdown",
      "source": [
        "# **Atividade de Aprofundamento Trilha 2**\n",
        "\n",
        "### **Contador de Palavras**\n",
        "\n",
        "Construção de um contator de palavras dentro de um texto.\n",
        "\n",
        "*Textos são uma fonte importante de informações para Ciência de Dados. Eles aparecem nos posts das redes sociais, na avaliação de serviços e produtos etc. Contar a frequência (ou a quantidade) que esses termos aparecem é a base de muitos sistemas de recomendação, análise de sentimento etc.*\n",
        "\n",
        "Construa um contador de palavras de um texto que, dado um texto, produz um dicionário `contagem` como a palavra sendo chave e suas quantidades o valor da chave. Veja o exemplo:\n",
        "\n",
        "Entrada do programa:\n",
        "\n",
        "```\n",
        "texto = '''No meio do caminho tinha uma pedra\n",
        "tinha uma pedra no meio do caminho\n",
        "tinha uma pedra no meio do caminho tinha uma pedra.\n",
        "'''\n",
        "```\n",
        "\n",
        "Saída:\n",
        "\n",
        "```\n",
        "{'no': 3, 'meio': 3, 'do': 3, 'caminho': 3, 'tinha': 4, 'uma': 4, 'pedra': 4}\n",
        "```\n",
        "\n",
        "A seguir aplique a um texto de sua preferência.\n",
        "\n",
        "\n",
        "\n",
        "\n"
      ],
      "metadata": {
        "id": "iqSyDrpvdCPF"
      }
    },
    {
      "cell_type": "markdown",
      "source": [
        "### Código de exemplo da Atividade"
      ],
      "metadata": {
        "id": "38csPPbRzehu"
      }
    },
    {
      "cell_type": "code",
      "source": [
        "texto = '''No meio do caminho tinha uma pedra\n",
        "tinha uma pedra no meio do caminho\n",
        "tinha uma pedra no meio do caminho tinha uma pedra.\n",
        "'''\n",
        "\n",
        "# Remove caracteres especiais e transforma todas as letras em minúsculas\n",
        "texto = texto.lower().replace(\".\", \"\").replace(\",\", \"\").replace(\":\", \"\").replace(\";\", \"\").replace(\"!\", \"\").replace(\"?\", \"\").replace(\"-\", \"\")\n",
        "\n",
        "# Separa o texto em uma lista de palavras\n",
        "palavras = texto.split()\n",
        "\n",
        "print('Lista... \\n')\n",
        "print(palavras)\n",
        "print()\n",
        "\n",
        "# Cria um dicionário para armazenar a contagem de cada palavra\n",
        "contagem = {}\n",
        "\n",
        "#\n",
        "# CRIE O DICIONÁRIO CONTAGEM AQUI ----------------------------------------------\n",
        "#\n",
        "for palavra in palavras:\n",
        "    if palavra in contagem:\n",
        "        contagem[palavra] += 1\n",
        "    else:\n",
        "        contagem[palavra] = 1\n",
        "\n",
        "#\n",
        "#-------------------------------------------------------------------------------\n",
        "#\n",
        "\n",
        "# Imprime a contagem de cada palavra\n",
        "print('contagem... \\n')\n",
        "print(contagem)"
      ],
      "metadata": {
        "colab": {
          "base_uri": "https://localhost:8080/"
        },
        "id": "wZsUB5EWzYoK",
        "outputId": "4bde4e2d-713a-4c31-de75-eb4d30878c52"
      },
      "execution_count": null,
      "outputs": [
        {
          "output_type": "stream",
          "name": "stdout",
          "text": [
            "Lista... \n",
            "\n",
            "['no', 'meio', 'do', 'caminho', 'tinha', 'uma', 'pedra', 'tinha', 'uma', 'pedra', 'no', 'meio', 'do', 'caminho', 'tinha', 'uma', 'pedra', 'no', 'meio', 'do', 'caminho', 'tinha', 'uma', 'pedra']\n",
            "\n",
            "contagem... \n",
            "\n",
            "{'no': 3, 'meio': 3, 'do': 3, 'caminho': 3, 'tinha': 4, 'uma': 4, 'pedra': 4}\n"
          ]
        }
      ]
    },
    {
      "cell_type": "markdown",
      "source": [
        "## Contando palavras do texto inserido em um Input Box.\n",
        "Para inserir o input box é necessario instalar o pacote ipywidgets"
      ],
      "metadata": {
        "id": "GhWC2ZtXztxt"
      }
    },
    {
      "cell_type": "code",
      "source": [
        "!pip install ipywidgets  # Instala o pacote ipywidgets (se ainda não estiver instalado)\n",
        "\n",
        "import ipywidgets as widgets\n",
        "from IPython.display import display\n"
      ],
      "metadata": {
        "id": "6BIfF-sodI6e"
      },
      "execution_count": null,
      "outputs": []
    },
    {
      "cell_type": "code",
      "source": [
        "# Função para lidar com o valor inserido no input box\n",
        "def handle_submit(sender):\n",
        "    print(\"Texto inserido:\", text_input.value)\n",
        "\n",
        "# Criação do input box\n",
        "text_input = widgets.Text(\n",
        "    value='',  # Valor inicial do input box\n",
        "    placeholder='Digite algo e tecle \"Enter\"',\n",
        "    description='Texto:',\n",
        "    disabled=False\n",
        ")\n",
        "\n",
        "# Define a função de tratamento para quando o valor for inserido\n",
        "text_input.on_submit(handle_submit)\n",
        "\n",
        "# Exibe o input box\n",
        "display(text_input)\n",
        "\n"
      ],
      "metadata": {
        "colab": {
          "base_uri": "https://localhost:8080/",
          "height": 68,
          "referenced_widgets": [
            "69ac016727524d70b6680406fb8d4129",
            "48c7c3551ae24de281f52ac09b2e42e3",
            "6a27bcde6fb44baa800a4330bf525f09"
          ]
        },
        "id": "OxV1VvCDwzNs",
        "outputId": "3e135810-aed9-43e7-a47f-593330199f67"
      },
      "execution_count": 60,
      "outputs": [
        {
          "output_type": "display_data",
          "data": {
            "text/plain": [
              "Text(value='', description='Texto:', placeholder='Digite algo e tecle \"Enter\"')"
            ],
            "application/vnd.jupyter.widget-view+json": {
              "version_major": 2,
              "version_minor": 0,
              "model_id": "69ac016727524d70b6680406fb8d4129"
            }
          },
          "metadata": {}
        },
        {
          "output_type": "stream",
          "name": "stdout",
          "text": [
            "Texto inserido: O tempo perguntou pro tempo quanto tempo o tempo tem, o tempo respondeu pro tempo que o tempo tem o tempo que o tempo tem\n"
          ]
        }
      ]
    },
    {
      "cell_type": "markdown",
      "source": [
        "### Contador de palavras"
      ],
      "metadata": {
        "id": "kIZ66EyfGDl3"
      }
    },
    {
      "cell_type": "code",
      "source": [
        "# Armazenando o texto do input box\n",
        "texto = text_input.value\n",
        "\n",
        "# Remove caracteres especiais e transforma todas as letras em minúsculas\n",
        "texto = texto.lower().replace(\".\", \"\").replace(\",\", \"\").replace(\":\", \"\").replace(\";\", \"\").replace(\"!\", \"\").replace(\"?\", \"\").replace(\"-\", \"\")\n",
        "\n",
        "# Separa o texto em uma lista de palavras\n",
        "palavras = texto.split()\n",
        "\n",
        "print('Lista... \\n')\n",
        "print(palavras)\n",
        "print()\n",
        "\n",
        "# Cria um dicionário para armazenar a contagem de cada palavra\n",
        "contagem = {}\n",
        "\n",
        "#\n",
        "# CRIE O DICIONÁRIO CONTAGEM AQUI ----------------------------------------------\n",
        "#\n",
        "for palavra in palavras:\n",
        "    if palavra in contagem:\n",
        "        contagem[palavra] += 1\n",
        "    else:\n",
        "        contagem[palavra] = 1\n",
        "\n",
        "#\n",
        "#-------------------------------------------------------------------------------\n",
        "#\n",
        "\n",
        "# Imprime a contagem de cada palavra\n",
        "print('contagem... \\n')\n",
        "print(contagem)"
      ],
      "metadata": {
        "colab": {
          "base_uri": "https://localhost:8080/",
          "height": 0
        },
        "id": "53n8lzmy0sf3",
        "outputId": "4da7f5a9-56a5-47e0-912a-645e706ef13e"
      },
      "execution_count": 62,
      "outputs": [
        {
          "output_type": "stream",
          "name": "stdout",
          "text": [
            "Lista... \n",
            "\n",
            "['o', 'tempo', 'perguntou', 'pro', 'tempo', 'quanto', 'tempo', 'o', 'tempo', 'tem', 'o', 'tempo', 'respondeu', 'pro', 'tempo', 'que', 'o', 'tempo', 'tem', 'o', 'tempo', 'que', 'o', 'tempo', 'tem']\n",
            "\n",
            "contagem... \n",
            "\n",
            "{'o': 6, 'tempo': 9, 'perguntou': 1, 'pro': 2, 'quanto': 1, 'tem': 3, 'respondeu': 1, 'que': 2}\n"
          ]
        }
      ]
    },
    {
      "cell_type": "markdown",
      "source": [
        "## WordCloud"
      ],
      "metadata": {
        "id": "vEtzSk2I3q9w"
      }
    },
    {
      "cell_type": "code",
      "source": [
        "#@markdown -\n",
        "from wordcloud import WordCloud\n",
        "import matplotlib.pyplot as plt\n",
        "\n",
        "def my_wordcloud(contagem):\n",
        "  wordcloud = WordCloud(width = 800, height = 800,\n",
        "                  background_color ='white',\n",
        "                  max_words=200,\n",
        "                  min_font_size = 10).generate_from_frequencies(contagem)\n",
        "\n",
        "  plt.figure(figsize = (5, 5), facecolor = None)\n",
        "  plt.imshow(wordcloud)\n",
        "  plt.axis(\"off\")\n",
        "  plt.tight_layout(pad = 0)\n",
        "\n",
        "  plt.show()\n",
        "  return\n"
      ],
      "metadata": {
        "id": "CiEBSGCq3zCk"
      },
      "execution_count": 63,
      "outputs": []
    },
    {
      "cell_type": "code",
      "source": [
        "my_wordcloud(contagem)"
      ],
      "metadata": {
        "id": "2FG6GMtjDC4P",
        "colab": {
          "base_uri": "https://localhost:8080/",
          "height": 536
        },
        "outputId": "7b86ca30-c9b0-4a76-8eb9-567afe1153a3"
      },
      "execution_count": 64,
      "outputs": [
        {
          "output_type": "display_data",
          "data": {
            "text/plain": [
              "<Figure size 500x500 with 1 Axes>"
            ],
            "image/png": "[encoded data removed]"
          },
          "metadata": {}
        }
      ]
    }
  ]
}