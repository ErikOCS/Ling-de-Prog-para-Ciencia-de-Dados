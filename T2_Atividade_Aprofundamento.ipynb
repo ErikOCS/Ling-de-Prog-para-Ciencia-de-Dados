{
  "nbformat": 4,
  "nbformat_minor": 0,
  "metadata": {
    "colab": {
      "provenance": [],
      "authorship_tag": "ABX9TyNF3RA1OWiQr1TKacdh8Rbc",
      "include_colab_link": true
    },
    "kernelspec": {
      "name": "python3",
      "display_name": "Python 3"
    },
    "language_info": {
      "name": "python"
    }
  },
  "cells": [
    {
      "cell_type": "markdown",
      "metadata": {
        "id": "view-in-github",
        "colab_type": "text"
      },
      "source": [
        "<a href=\"https://colab.research.google.com/github/ErikOCS/Ling-de-Prog-para-Ciencia-de-Dados/blob/main/T2_Atividade_Aprofundamento.ipynb\" target=\"_parent\"><img src=\"https://colab.research.google.com/assets/colab-badge.svg\" alt=\"Open In Colab\"/></a>"
      ]
    },
    {
      "cell_type": "code",
      "execution_count": null,
      "metadata": {
        "id": "XPei3mvVcqde"
      },
      "outputs": [],
      "source": []
    },
    {
      "cell_type": "markdown",
      "source": [
        "# **Atividade de Aprofundamento Trilha 2**\n",
        "\n",
        "### **Contador de Palavras**\n",
        "\n",
        "Construção de um contator de palavras dentro de um texto.\n",
        "\n",
        "*Textos são uma fonte importante de informações para Ciência de Dados. Eles aparecem nos posts das redes sociais, na avaliação de serviços e produtos etc. Contar a frequência (ou a quantidade) que esses termos aparecem é a base de muitos sistemas de recomendação, análise de sentimento etc.*\n",
        "\n",
        "Construa um contador de palavras de um texto que, dado um texto, produz um dicionário `contagem` como a palavra sendo chave e suas quantidades o valor da chave. Veja o exemplo:\n",
        "\n",
        "Entrada do programa:\n",
        "\n",
        "```\n",
        "texto = '''No meio do caminho tinha uma pedra\n",
        "tinha uma pedra no meio do caminho\n",
        "tinha uma pedra no meio do caminho tinha uma pedra.\n",
        "'''\n",
        "```\n",
        "\n",
        "Saída:\n",
        "\n",
        "```\n",
        "{'no': 3, 'meio': 3, 'do': 3, 'caminho': 3, 'tinha': 4, 'uma': 4, 'pedra': 4}\n",
        "```\n",
        "\n",
        "A seguir aplique a um texto de sua preferência.\n",
        "\n",
        "\n",
        "\n",
        "\n"
      ],
      "metadata": {
        "id": "iqSyDrpvdCPF"
      }
    },
    {
      "cell_type": "markdown",
      "source": [
        "### Código de exemplo da Atividade"
      ],
      "metadata": {
        "id": "38csPPbRzehu"
      }
    },
    {
      "cell_type": "code",
      "source": [
        "texto = '''No meio do caminho tinha uma pedra\n",
        "tinha uma pedra no meio do caminho\n",
        "tinha uma pedra no meio do caminho tinha uma pedra.\n",
        "'''\n",
        "\n",
        "# Remove caracteres especiais e transforma todas as letras em minúsculas\n",
        "texto = texto.lower().replace(\".\", \"\").replace(\",\", \"\").replace(\":\", \"\").replace(\";\", \"\").replace(\"!\", \"\").replace(\"?\", \"\").replace(\"-\", \"\")\n",
        "\n",
        "# Separa o texto em uma lista de palavras\n",
        "palavras = texto.split()\n",
        "\n",
        "print('Lista... \\n')\n",
        "print(palavras)\n",
        "print()\n",
        "\n",
        "# Cria um dicionário para armazenar a contagem de cada palavra\n",
        "contagem = {}\n",
        "\n",
        "#\n",
        "# CRIE O DICIONÁRIO CONTAGEM AQUI ----------------------------------------------\n",
        "#\n",
        "for palavra in palavras:\n",
        "    if palavra in contagem:\n",
        "        contagem[palavra] += 1\n",
        "    else:\n",
        "        contagem[palavra] = 1\n",
        "\n",
        "#\n",
        "#-------------------------------------------------------------------------------\n",
        "#\n",
        "\n",
        "# Imprime a contagem de cada palavra\n",
        "print('contagem... \\n')\n",
        "print(contagem)"
      ],
      "metadata": {
        "id": "wZsUB5EWzYoK"
      },
      "execution_count": null,
      "outputs": []
    },
    {
      "cell_type": "markdown",
      "source": [
        "## Contando palavras do texto inserido em um Input Box.\n",
        "Para inserir o input box é necessario instalar o pacote ipywidgets"
      ],
      "metadata": {
        "id": "GhWC2ZtXztxt"
      }
    },
    {
      "cell_type": "code",
      "source": [
        "!pip install ipywidgets  # Instala o pacote ipywidgets (se ainda não estiver instalado)\n",
        "\n",
        "import ipywidgets as widgets\n",
        "from IPython.display import display\n"
      ],
      "metadata": {
        "id": "6BIfF-sodI6e"
      },
      "execution_count": null,
      "outputs": []
    },
    {
      "cell_type": "code",
      "source": [
        "# Função para lidar com o valor inserido no input box\n",
        "def handle_submit(sender):\n",
        "    print(\"Texto inserido:\", text_input.value)\n",
        "\n",
        "# Criação do input box\n",
        "text_input = widgets.Text(\n",
        "    value='',  # Valor inicial do input box\n",
        "    placeholder='Digite algo e tecle \"Enter\"',\n",
        "    description='Texto:',\n",
        "    disabled=False\n",
        ")\n",
        "\n",
        "# Define a função de tratamento para quando o valor for inserido\n",
        "text_input.on_submit(handle_submit)\n",
        "\n",
        "# Exibe o input box\n",
        "display(text_input)\n",
        "\n",
        "\n"
      ],
      "metadata": {
        "id": "OxV1VvCDwzNs"
      },
      "execution_count": null,
      "outputs": []
    },
    {
      "cell_type": "code",
      "source": [
        "# Armazenando o texto do input box\n",
        "texto = text_input.value\n",
        "\n",
        "# Remove caracteres especiais e transforma todas as letras em minúsculas\n",
        "texto = texto.lower().replace(\".\", \"\").replace(\",\", \"\").replace(\":\", \"\").replace(\";\", \"\").replace(\"!\", \"\").replace(\"?\", \"\").replace(\"-\", \"\")\n",
        "\n",
        "# Separa o texto em uma lista de palavras\n",
        "palavras = texto.split()\n",
        "\n",
        "print('Lista... \\n')\n",
        "print(palavras)\n",
        "print()\n",
        "\n",
        "# Cria um dicionário para armazenar a contagem de cada palavra\n",
        "contagem = {}\n",
        "\n",
        "#\n",
        "# CRIE O DICIONÁRIO CONTAGEM AQUI ----------------------------------------------\n",
        "#\n",
        "for palavra in palavras:\n",
        "    if palavra in contagem:\n",
        "        contagem[palavra] += 1\n",
        "    else:\n",
        "        contagem[palavra] = 1\n",
        "\n",
        "#\n",
        "#-------------------------------------------------------------------------------\n",
        "#\n",
        "\n",
        "# Imprime a contagem de cada palavra\n",
        "print('contagem... \\n')\n",
        "print(contagem)"
      ],
      "metadata": {
        "colab": {
          "base_uri": "https://localhost:8080/"
        },
        "id": "53n8lzmy0sf3",
        "outputId": "c6c5bf6e-4005-49bb-ca3f-a902d810120a"
      },
      "execution_count": 23,
      "outputs": [
        {
          "output_type": "stream",
          "name": "stdout",
          "text": [
            "Lista... \n",
            "\n",
            "['no', 'meio', 'do', 'caminho', 'tinha', 'uma', 'pedra', 'tinha', 'uma', 'pedra', 'no', 'meio', 'do', 'caminho', 'tinha', 'uma', 'pedra', 'no', 'meio', 'do', 'caminho', 'tinha', 'uma', 'pedra']\n",
            "\n",
            "contagem... \n",
            "\n",
            "{'no': 3, 'meio': 3, 'do': 3, 'caminho': 3, 'tinha': 4, 'uma': 4, 'pedra': 4}\n"
          ]
        }
      ]
    }
  ]
}